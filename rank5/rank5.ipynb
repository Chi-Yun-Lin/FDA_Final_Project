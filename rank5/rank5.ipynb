{
 "cells": [
  {
   "cell_type": "markdown",
   "metadata": {},
   "source": [
    "# Covid-19 Predictions, Growth Factor, and Calculus\n",
    "\n",
    "來源: [https://www.kaggle.com/dferhadi/covid-19-predictions-growth-factor-and-calculus](https://www.kaggle.com/dferhadi/covid-19-predictions-growth-factor-and-calculus)\n",
    "\n",
    "主要內容:\n",
    "    - 以 Logistic Function 來分析各國\n",
    "        1. Growth Factor\n",
    "        2. Growth Ratio\n",
    "        3. Growth Rate\n",
    "        4. 2nd Derivative\n",
    "\n",
    "不太懂這個 kernel 本身分析這些想要得到甚麼資訊，感覺不太直觀，用在 Project 可能不太適合，故直接捨棄此 kernel"
   ]
  }
 ],
 "metadata": {
  "kernelspec": {
   "display_name": "py_36_env",
   "language": "python",
   "name": "py_36_env"
  },
  "language_info": {
   "codemirror_mode": {
    "name": "ipython",
    "version": 3
   },
   "file_extension": ".py",
   "mimetype": "text/x-python",
   "name": "python",
   "nbconvert_exporter": "python",
   "pygments_lexer": "ipython3",
   "version": "3.6.10"
  }
 },
 "nbformat": 4,
 "nbformat_minor": 2
}
